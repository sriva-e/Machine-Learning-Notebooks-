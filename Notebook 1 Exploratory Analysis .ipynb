{
 "cells": [
  {
   "cell_type": "markdown",
   "metadata": {},
   "source": [
    "# Exploratory Analysis\n",
    "\n",
    "## Problems:\n",
    "\n",
    "Load the NYC AirBnB Truncated Dataset. This dataset is a mirror of the full NYC AirBnB dataset found at Kaggle, but only contains the first 10,000 entries. \n",
    "\n",
    "https://www.kaggle.com/dgomonov/new-york-city-airbnb-open-data\n",
    "\n",
    "For the numerical features, \n",
    "\n",
    "1) Display histograms for the numerical features. \n",
    "\n",
    "2) Construct the scatter plots of price with each of the numerical features.\n",
    "\n",
    "3) Display the correlation histogram.  \n",
    "\n",
    "4) Using numerical features to predict the renting price. \n",
    "\n",
    "5) Write down the predict function from (4)\n",
    "\n",
    "6) Calculate the RSS cost.  "
   ]
  },
  {
   "cell_type": "markdown",
   "metadata": {},
   "source": [
    "Firstly, I imported the dataset into the notebook, after that I looked into the attributes of the dataset, what type of dataset it is, information about the dataset and it's dimensions "
   ]
  },
  {
   "cell_type": "code",
   "execution_count": 2,
   "metadata": {
    "scrolled": true
   },
   "outputs": [
    {
     "data": {
      "text/html": [
       "<div>\n",
       "<style scoped>\n",
       "    .dataframe tbody tr th:only-of-type {\n",
       "        vertical-align: middle;\n",
       "    }\n",
       "\n",
       "    .dataframe tbody tr th {\n",
       "        vertical-align: top;\n",
       "    }\n",
       "\n",
       "    .dataframe thead th {\n",
       "        text-align: right;\n",
       "    }\n",
       "</style>\n",
       "<table border=\"1\" class=\"dataframe\">\n",
       "  <thead>\n",
       "    <tr style=\"text-align: right;\">\n",
       "      <th></th>\n",
       "      <th>name</th>\n",
       "      <th>host_id</th>\n",
       "      <th>host_name</th>\n",
       "      <th>neighbourhood_group</th>\n",
       "      <th>neighbourhood</th>\n",
       "      <th>latitude</th>\n",
       "      <th>longitude</th>\n",
       "      <th>room_type</th>\n",
       "      <th>price</th>\n",
       "      <th>minimum_nights</th>\n",
       "      <th>number_of_reviews</th>\n",
       "      <th>last_review</th>\n",
       "      <th>reviews_per_month</th>\n",
       "      <th>calculated_host_listings_count</th>\n",
       "      <th>availability_365</th>\n",
       "    </tr>\n",
       "  </thead>\n",
       "  <tbody>\n",
       "    <tr>\n",
       "      <th>0</th>\n",
       "      <td>Clean &amp; quiet apt home by the park</td>\n",
       "      <td>2787</td>\n",
       "      <td>John</td>\n",
       "      <td>Brooklyn</td>\n",
       "      <td>Kensington</td>\n",
       "      <td>40.64749</td>\n",
       "      <td>-73.97237</td>\n",
       "      <td>Private room</td>\n",
       "      <td>149</td>\n",
       "      <td>1</td>\n",
       "      <td>9</td>\n",
       "      <td>10/19/2018</td>\n",
       "      <td>0.21</td>\n",
       "      <td>6</td>\n",
       "      <td>365</td>\n",
       "    </tr>\n",
       "    <tr>\n",
       "      <th>1</th>\n",
       "      <td>Skylit Midtown Castle</td>\n",
       "      <td>2845</td>\n",
       "      <td>Jennifer</td>\n",
       "      <td>Manhattan</td>\n",
       "      <td>Midtown</td>\n",
       "      <td>40.75362</td>\n",
       "      <td>-73.98377</td>\n",
       "      <td>Entire home/apt</td>\n",
       "      <td>225</td>\n",
       "      <td>1</td>\n",
       "      <td>45</td>\n",
       "      <td>5/21/2019</td>\n",
       "      <td>0.38</td>\n",
       "      <td>2</td>\n",
       "      <td>355</td>\n",
       "    </tr>\n",
       "    <tr>\n",
       "      <th>2</th>\n",
       "      <td>THE VILLAGE OF HARLEM....NEW YORK !</td>\n",
       "      <td>4632</td>\n",
       "      <td>Elisabeth</td>\n",
       "      <td>Manhattan</td>\n",
       "      <td>Harlem</td>\n",
       "      <td>40.80902</td>\n",
       "      <td>-73.94190</td>\n",
       "      <td>Private room</td>\n",
       "      <td>150</td>\n",
       "      <td>3</td>\n",
       "      <td>0</td>\n",
       "      <td>NaN</td>\n",
       "      <td>NaN</td>\n",
       "      <td>1</td>\n",
       "      <td>365</td>\n",
       "    </tr>\n",
       "    <tr>\n",
       "      <th>3</th>\n",
       "      <td>Cozy Entire Floor of Brownstone</td>\n",
       "      <td>4869</td>\n",
       "      <td>LisaRoxanne</td>\n",
       "      <td>Brooklyn</td>\n",
       "      <td>Clinton Hill</td>\n",
       "      <td>40.68514</td>\n",
       "      <td>-73.95976</td>\n",
       "      <td>Entire home/apt</td>\n",
       "      <td>89</td>\n",
       "      <td>1</td>\n",
       "      <td>270</td>\n",
       "      <td>7/5/2019</td>\n",
       "      <td>4.64</td>\n",
       "      <td>1</td>\n",
       "      <td>194</td>\n",
       "    </tr>\n",
       "    <tr>\n",
       "      <th>4</th>\n",
       "      <td>Entire Apt: Spacious Studio/Loft by central park</td>\n",
       "      <td>7192</td>\n",
       "      <td>Laura</td>\n",
       "      <td>Manhattan</td>\n",
       "      <td>East Harlem</td>\n",
       "      <td>40.79851</td>\n",
       "      <td>-73.94399</td>\n",
       "      <td>Entire home/apt</td>\n",
       "      <td>80</td>\n",
       "      <td>10</td>\n",
       "      <td>9</td>\n",
       "      <td>11/19/2018</td>\n",
       "      <td>0.10</td>\n",
       "      <td>1</td>\n",
       "      <td>0</td>\n",
       "    </tr>\n",
       "    <tr>\n",
       "      <th>...</th>\n",
       "      <td>...</td>\n",
       "      <td>...</td>\n",
       "      <td>...</td>\n",
       "      <td>...</td>\n",
       "      <td>...</td>\n",
       "      <td>...</td>\n",
       "      <td>...</td>\n",
       "      <td>...</td>\n",
       "      <td>...</td>\n",
       "      <td>...</td>\n",
       "      <td>...</td>\n",
       "      <td>...</td>\n",
       "      <td>...</td>\n",
       "      <td>...</td>\n",
       "      <td>...</td>\n",
       "    </tr>\n",
       "    <tr>\n",
       "      <th>9994</th>\n",
       "      <td>Cozy apt in heart of the e village</td>\n",
       "      <td>40076332</td>\n",
       "      <td>Steven</td>\n",
       "      <td>Manhattan</td>\n",
       "      <td>East Village</td>\n",
       "      <td>40.72644</td>\n",
       "      <td>-73.98403</td>\n",
       "      <td>Entire home/apt</td>\n",
       "      <td>175</td>\n",
       "      <td>5</td>\n",
       "      <td>0</td>\n",
       "      <td>NaN</td>\n",
       "      <td>NaN</td>\n",
       "      <td>1</td>\n",
       "      <td>0</td>\n",
       "    </tr>\n",
       "    <tr>\n",
       "      <th>9995</th>\n",
       "      <td>Perfect Location - Meticulously Kept Flat</td>\n",
       "      <td>12620454</td>\n",
       "      <td>Will</td>\n",
       "      <td>Brooklyn</td>\n",
       "      <td>Bushwick</td>\n",
       "      <td>40.70442</td>\n",
       "      <td>-73.92484</td>\n",
       "      <td>Entire home/apt</td>\n",
       "      <td>220</td>\n",
       "      <td>5</td>\n",
       "      <td>27</td>\n",
       "      <td>1/1/2017</td>\n",
       "      <td>0.57</td>\n",
       "      <td>1</td>\n",
       "      <td>0</td>\n",
       "    </tr>\n",
       "    <tr>\n",
       "      <th>9996</th>\n",
       "      <td>Garden Apt in Historic Brownstone!</td>\n",
       "      <td>2060383</td>\n",
       "      <td>Lisa</td>\n",
       "      <td>Brooklyn</td>\n",
       "      <td>Cobble Hill</td>\n",
       "      <td>40.68732</td>\n",
       "      <td>-73.99245</td>\n",
       "      <td>Entire home/apt</td>\n",
       "      <td>147</td>\n",
       "      <td>3</td>\n",
       "      <td>23</td>\n",
       "      <td>6/16/2019</td>\n",
       "      <td>0.51</td>\n",
       "      <td>1</td>\n",
       "      <td>2</td>\n",
       "    </tr>\n",
       "    <tr>\n",
       "      <th>9997</th>\n",
       "      <td>East Village Private Room &amp; Terrace</td>\n",
       "      <td>39956905</td>\n",
       "      <td>Can</td>\n",
       "      <td>Manhattan</td>\n",
       "      <td>East Village</td>\n",
       "      <td>40.72811</td>\n",
       "      <td>-73.98453</td>\n",
       "      <td>Private room</td>\n",
       "      <td>95</td>\n",
       "      <td>2</td>\n",
       "      <td>1</td>\n",
       "      <td>8/29/2015</td>\n",
       "      <td>0.02</td>\n",
       "      <td>2</td>\n",
       "      <td>0</td>\n",
       "    </tr>\n",
       "    <tr>\n",
       "      <th>9998</th>\n",
       "      <td>Cosy apartment in Carroll Gardens</td>\n",
       "      <td>33064750</td>\n",
       "      <td>Suzan</td>\n",
       "      <td>Brooklyn</td>\n",
       "      <td>Carroll Gardens</td>\n",
       "      <td>40.68282</td>\n",
       "      <td>-73.99774</td>\n",
       "      <td>Entire home/apt</td>\n",
       "      <td>160</td>\n",
       "      <td>5</td>\n",
       "      <td>2</td>\n",
       "      <td>8/8/2017</td>\n",
       "      <td>0.06</td>\n",
       "      <td>1</td>\n",
       "      <td>0</td>\n",
       "    </tr>\n",
       "  </tbody>\n",
       "</table>\n",
       "<p>9999 rows × 15 columns</p>\n",
       "</div>"
      ],
      "text/plain": [
       "                                                  name   host_id    host_name  \\\n",
       "0                   Clean & quiet apt home by the park      2787         John   \n",
       "1                                Skylit Midtown Castle      2845     Jennifer   \n",
       "2                  THE VILLAGE OF HARLEM....NEW YORK !      4632    Elisabeth   \n",
       "3                      Cozy Entire Floor of Brownstone      4869  LisaRoxanne   \n",
       "4     Entire Apt: Spacious Studio/Loft by central park      7192        Laura   \n",
       "...                                                ...       ...          ...   \n",
       "9994                Cozy apt in heart of the e village  40076332       Steven   \n",
       "9995         Perfect Location - Meticulously Kept Flat  12620454         Will   \n",
       "9996                Garden Apt in Historic Brownstone!   2060383         Lisa   \n",
       "9997               East Village Private Room & Terrace  39956905          Can   \n",
       "9998                 Cosy apartment in Carroll Gardens  33064750        Suzan   \n",
       "\n",
       "     neighbourhood_group    neighbourhood  latitude  longitude  \\\n",
       "0               Brooklyn       Kensington  40.64749  -73.97237   \n",
       "1              Manhattan          Midtown  40.75362  -73.98377   \n",
       "2              Manhattan           Harlem  40.80902  -73.94190   \n",
       "3               Brooklyn     Clinton Hill  40.68514  -73.95976   \n",
       "4              Manhattan      East Harlem  40.79851  -73.94399   \n",
       "...                  ...              ...       ...        ...   \n",
       "9994           Manhattan     East Village  40.72644  -73.98403   \n",
       "9995            Brooklyn         Bushwick  40.70442  -73.92484   \n",
       "9996            Brooklyn      Cobble Hill  40.68732  -73.99245   \n",
       "9997           Manhattan     East Village  40.72811  -73.98453   \n",
       "9998            Brooklyn  Carroll Gardens  40.68282  -73.99774   \n",
       "\n",
       "            room_type  price  minimum_nights  number_of_reviews last_review  \\\n",
       "0        Private room    149               1                  9  10/19/2018   \n",
       "1     Entire home/apt    225               1                 45   5/21/2019   \n",
       "2        Private room    150               3                  0         NaN   \n",
       "3     Entire home/apt     89               1                270    7/5/2019   \n",
       "4     Entire home/apt     80              10                  9  11/19/2018   \n",
       "...               ...    ...             ...                ...         ...   \n",
       "9994  Entire home/apt    175               5                  0         NaN   \n",
       "9995  Entire home/apt    220               5                 27    1/1/2017   \n",
       "9996  Entire home/apt    147               3                 23   6/16/2019   \n",
       "9997     Private room     95               2                  1   8/29/2015   \n",
       "9998  Entire home/apt    160               5                  2    8/8/2017   \n",
       "\n",
       "      reviews_per_month  calculated_host_listings_count  availability_365  \n",
       "0                  0.21                               6               365  \n",
       "1                  0.38                               2               355  \n",
       "2                   NaN                               1               365  \n",
       "3                  4.64                               1               194  \n",
       "4                  0.10                               1                 0  \n",
       "...                 ...                             ...               ...  \n",
       "9994                NaN                               1                 0  \n",
       "9995               0.57                               1                 0  \n",
       "9996               0.51                               1                 2  \n",
       "9997               0.02                               2                 0  \n",
       "9998               0.06                               1                 0  \n",
       "\n",
       "[9999 rows x 15 columns]"
      ]
     },
     "execution_count": 2,
     "metadata": {},
     "output_type": "execute_result"
    }
   ],
   "source": [
    "import numpy as np\n",
    "import pandas as pd\n",
    "from matplotlib import pyplot as plt\n",
    "\n",
    "data = pd.read_csv(\"https://raw.githubusercontent.com/tipthederiver/Math-7243-2020/master/Datasets/NYCAirBnB/train.csv\")\n",
    "data"
   ]
  },
  {
   "cell_type": "code",
   "execution_count": 3,
   "metadata": {},
   "outputs": [
    {
     "data": {
      "text/plain": [
       "pandas.core.frame.DataFrame"
      ]
     },
     "metadata": {},
     "output_type": "display_data"
    },
    {
     "data": {
      "text/html": [
       "<div>\n",
       "<style scoped>\n",
       "    .dataframe tbody tr th:only-of-type {\n",
       "        vertical-align: middle;\n",
       "    }\n",
       "\n",
       "    .dataframe tbody tr th {\n",
       "        vertical-align: top;\n",
       "    }\n",
       "\n",
       "    .dataframe thead th {\n",
       "        text-align: right;\n",
       "    }\n",
       "</style>\n",
       "<table border=\"1\" class=\"dataframe\">\n",
       "  <thead>\n",
       "    <tr style=\"text-align: right;\">\n",
       "      <th></th>\n",
       "      <th>name</th>\n",
       "      <th>host_id</th>\n",
       "      <th>host_name</th>\n",
       "      <th>neighbourhood_group</th>\n",
       "      <th>neighbourhood</th>\n",
       "      <th>latitude</th>\n",
       "      <th>longitude</th>\n",
       "      <th>room_type</th>\n",
       "      <th>price</th>\n",
       "      <th>minimum_nights</th>\n",
       "      <th>number_of_reviews</th>\n",
       "      <th>last_review</th>\n",
       "      <th>reviews_per_month</th>\n",
       "      <th>calculated_host_listings_count</th>\n",
       "      <th>availability_365</th>\n",
       "    </tr>\n",
       "  </thead>\n",
       "  <tbody>\n",
       "    <tr>\n",
       "      <th>0</th>\n",
       "      <td>Clean &amp; quiet apt home by the park</td>\n",
       "      <td>2787</td>\n",
       "      <td>John</td>\n",
       "      <td>Brooklyn</td>\n",
       "      <td>Kensington</td>\n",
       "      <td>40.64749</td>\n",
       "      <td>-73.97237</td>\n",
       "      <td>Private room</td>\n",
       "      <td>149</td>\n",
       "      <td>1</td>\n",
       "      <td>9</td>\n",
       "      <td>10/19/2018</td>\n",
       "      <td>0.21</td>\n",
       "      <td>6</td>\n",
       "      <td>365</td>\n",
       "    </tr>\n",
       "    <tr>\n",
       "      <th>1</th>\n",
       "      <td>Skylit Midtown Castle</td>\n",
       "      <td>2845</td>\n",
       "      <td>Jennifer</td>\n",
       "      <td>Manhattan</td>\n",
       "      <td>Midtown</td>\n",
       "      <td>40.75362</td>\n",
       "      <td>-73.98377</td>\n",
       "      <td>Entire home/apt</td>\n",
       "      <td>225</td>\n",
       "      <td>1</td>\n",
       "      <td>45</td>\n",
       "      <td>5/21/2019</td>\n",
       "      <td>0.38</td>\n",
       "      <td>2</td>\n",
       "      <td>355</td>\n",
       "    </tr>\n",
       "    <tr>\n",
       "      <th>2</th>\n",
       "      <td>THE VILLAGE OF HARLEM....NEW YORK !</td>\n",
       "      <td>4632</td>\n",
       "      <td>Elisabeth</td>\n",
       "      <td>Manhattan</td>\n",
       "      <td>Harlem</td>\n",
       "      <td>40.80902</td>\n",
       "      <td>-73.94190</td>\n",
       "      <td>Private room</td>\n",
       "      <td>150</td>\n",
       "      <td>3</td>\n",
       "      <td>0</td>\n",
       "      <td>NaN</td>\n",
       "      <td>NaN</td>\n",
       "      <td>1</td>\n",
       "      <td>365</td>\n",
       "    </tr>\n",
       "    <tr>\n",
       "      <th>3</th>\n",
       "      <td>Cozy Entire Floor of Brownstone</td>\n",
       "      <td>4869</td>\n",
       "      <td>LisaRoxanne</td>\n",
       "      <td>Brooklyn</td>\n",
       "      <td>Clinton Hill</td>\n",
       "      <td>40.68514</td>\n",
       "      <td>-73.95976</td>\n",
       "      <td>Entire home/apt</td>\n",
       "      <td>89</td>\n",
       "      <td>1</td>\n",
       "      <td>270</td>\n",
       "      <td>7/5/2019</td>\n",
       "      <td>4.64</td>\n",
       "      <td>1</td>\n",
       "      <td>194</td>\n",
       "    </tr>\n",
       "    <tr>\n",
       "      <th>4</th>\n",
       "      <td>Entire Apt: Spacious Studio/Loft by central park</td>\n",
       "      <td>7192</td>\n",
       "      <td>Laura</td>\n",
       "      <td>Manhattan</td>\n",
       "      <td>East Harlem</td>\n",
       "      <td>40.79851</td>\n",
       "      <td>-73.94399</td>\n",
       "      <td>Entire home/apt</td>\n",
       "      <td>80</td>\n",
       "      <td>10</td>\n",
       "      <td>9</td>\n",
       "      <td>11/19/2018</td>\n",
       "      <td>0.10</td>\n",
       "      <td>1</td>\n",
       "      <td>0</td>\n",
       "    </tr>\n",
       "  </tbody>\n",
       "</table>\n",
       "</div>"
      ],
      "text/plain": [
       "                                               name  host_id    host_name  \\\n",
       "0                Clean & quiet apt home by the park     2787         John   \n",
       "1                             Skylit Midtown Castle     2845     Jennifer   \n",
       "2               THE VILLAGE OF HARLEM....NEW YORK !     4632    Elisabeth   \n",
       "3                   Cozy Entire Floor of Brownstone     4869  LisaRoxanne   \n",
       "4  Entire Apt: Spacious Studio/Loft by central park     7192        Laura   \n",
       "\n",
       "  neighbourhood_group neighbourhood  latitude  longitude        room_type  \\\n",
       "0            Brooklyn    Kensington  40.64749  -73.97237     Private room   \n",
       "1           Manhattan       Midtown  40.75362  -73.98377  Entire home/apt   \n",
       "2           Manhattan        Harlem  40.80902  -73.94190     Private room   \n",
       "3            Brooklyn  Clinton Hill  40.68514  -73.95976  Entire home/apt   \n",
       "4           Manhattan   East Harlem  40.79851  -73.94399  Entire home/apt   \n",
       "\n",
       "   price  minimum_nights  number_of_reviews last_review  reviews_per_month  \\\n",
       "0    149               1                  9  10/19/2018               0.21   \n",
       "1    225               1                 45   5/21/2019               0.38   \n",
       "2    150               3                  0         NaN                NaN   \n",
       "3     89               1                270    7/5/2019               4.64   \n",
       "4     80              10                  9  11/19/2018               0.10   \n",
       "\n",
       "   calculated_host_listings_count  availability_365  \n",
       "0                               6               365  \n",
       "1                               2               355  \n",
       "2                               1               365  \n",
       "3                               1               194  \n",
       "4                               1                 0  "
      ]
     },
     "metadata": {},
     "output_type": "display_data"
    },
    {
     "data": {
      "text/html": [
       "<div>\n",
       "<style scoped>\n",
       "    .dataframe tbody tr th:only-of-type {\n",
       "        vertical-align: middle;\n",
       "    }\n",
       "\n",
       "    .dataframe tbody tr th {\n",
       "        vertical-align: top;\n",
       "    }\n",
       "\n",
       "    .dataframe thead th {\n",
       "        text-align: right;\n",
       "    }\n",
       "</style>\n",
       "<table border=\"1\" class=\"dataframe\">\n",
       "  <thead>\n",
       "    <tr style=\"text-align: right;\">\n",
       "      <th></th>\n",
       "      <th>name</th>\n",
       "      <th>host_id</th>\n",
       "      <th>host_name</th>\n",
       "      <th>neighbourhood_group</th>\n",
       "      <th>neighbourhood</th>\n",
       "      <th>latitude</th>\n",
       "      <th>longitude</th>\n",
       "      <th>room_type</th>\n",
       "      <th>price</th>\n",
       "      <th>minimum_nights</th>\n",
       "      <th>number_of_reviews</th>\n",
       "      <th>last_review</th>\n",
       "      <th>reviews_per_month</th>\n",
       "      <th>calculated_host_listings_count</th>\n",
       "      <th>availability_365</th>\n",
       "    </tr>\n",
       "  </thead>\n",
       "  <tbody>\n",
       "    <tr>\n",
       "      <th>9994</th>\n",
       "      <td>Cozy apt in heart of the e village</td>\n",
       "      <td>40076332</td>\n",
       "      <td>Steven</td>\n",
       "      <td>Manhattan</td>\n",
       "      <td>East Village</td>\n",
       "      <td>40.72644</td>\n",
       "      <td>-73.98403</td>\n",
       "      <td>Entire home/apt</td>\n",
       "      <td>175</td>\n",
       "      <td>5</td>\n",
       "      <td>0</td>\n",
       "      <td>NaN</td>\n",
       "      <td>NaN</td>\n",
       "      <td>1</td>\n",
       "      <td>0</td>\n",
       "    </tr>\n",
       "    <tr>\n",
       "      <th>9995</th>\n",
       "      <td>Perfect Location - Meticulously Kept Flat</td>\n",
       "      <td>12620454</td>\n",
       "      <td>Will</td>\n",
       "      <td>Brooklyn</td>\n",
       "      <td>Bushwick</td>\n",
       "      <td>40.70442</td>\n",
       "      <td>-73.92484</td>\n",
       "      <td>Entire home/apt</td>\n",
       "      <td>220</td>\n",
       "      <td>5</td>\n",
       "      <td>27</td>\n",
       "      <td>1/1/2017</td>\n",
       "      <td>0.57</td>\n",
       "      <td>1</td>\n",
       "      <td>0</td>\n",
       "    </tr>\n",
       "    <tr>\n",
       "      <th>9996</th>\n",
       "      <td>Garden Apt in Historic Brownstone!</td>\n",
       "      <td>2060383</td>\n",
       "      <td>Lisa</td>\n",
       "      <td>Brooklyn</td>\n",
       "      <td>Cobble Hill</td>\n",
       "      <td>40.68732</td>\n",
       "      <td>-73.99245</td>\n",
       "      <td>Entire home/apt</td>\n",
       "      <td>147</td>\n",
       "      <td>3</td>\n",
       "      <td>23</td>\n",
       "      <td>6/16/2019</td>\n",
       "      <td>0.51</td>\n",
       "      <td>1</td>\n",
       "      <td>2</td>\n",
       "    </tr>\n",
       "    <tr>\n",
       "      <th>9997</th>\n",
       "      <td>East Village Private Room &amp; Terrace</td>\n",
       "      <td>39956905</td>\n",
       "      <td>Can</td>\n",
       "      <td>Manhattan</td>\n",
       "      <td>East Village</td>\n",
       "      <td>40.72811</td>\n",
       "      <td>-73.98453</td>\n",
       "      <td>Private room</td>\n",
       "      <td>95</td>\n",
       "      <td>2</td>\n",
       "      <td>1</td>\n",
       "      <td>8/29/2015</td>\n",
       "      <td>0.02</td>\n",
       "      <td>2</td>\n",
       "      <td>0</td>\n",
       "    </tr>\n",
       "    <tr>\n",
       "      <th>9998</th>\n",
       "      <td>Cosy apartment in Carroll Gardens</td>\n",
       "      <td>33064750</td>\n",
       "      <td>Suzan</td>\n",
       "      <td>Brooklyn</td>\n",
       "      <td>Carroll Gardens</td>\n",
       "      <td>40.68282</td>\n",
       "      <td>-73.99774</td>\n",
       "      <td>Entire home/apt</td>\n",
       "      <td>160</td>\n",
       "      <td>5</td>\n",
       "      <td>2</td>\n",
       "      <td>8/8/2017</td>\n",
       "      <td>0.06</td>\n",
       "      <td>1</td>\n",
       "      <td>0</td>\n",
       "    </tr>\n",
       "  </tbody>\n",
       "</table>\n",
       "</div>"
      ],
      "text/plain": [
       "                                           name   host_id host_name  \\\n",
       "9994         Cozy apt in heart of the e village  40076332    Steven   \n",
       "9995  Perfect Location - Meticulously Kept Flat  12620454      Will   \n",
       "9996         Garden Apt in Historic Brownstone!   2060383      Lisa   \n",
       "9997        East Village Private Room & Terrace  39956905       Can   \n",
       "9998          Cosy apartment in Carroll Gardens  33064750     Suzan   \n",
       "\n",
       "     neighbourhood_group    neighbourhood  latitude  longitude  \\\n",
       "9994           Manhattan     East Village  40.72644  -73.98403   \n",
       "9995            Brooklyn         Bushwick  40.70442  -73.92484   \n",
       "9996            Brooklyn      Cobble Hill  40.68732  -73.99245   \n",
       "9997           Manhattan     East Village  40.72811  -73.98453   \n",
       "9998            Brooklyn  Carroll Gardens  40.68282  -73.99774   \n",
       "\n",
       "            room_type  price  minimum_nights  number_of_reviews last_review  \\\n",
       "9994  Entire home/apt    175               5                  0         NaN   \n",
       "9995  Entire home/apt    220               5                 27    1/1/2017   \n",
       "9996  Entire home/apt    147               3                 23   6/16/2019   \n",
       "9997     Private room     95               2                  1   8/29/2015   \n",
       "9998  Entire home/apt    160               5                  2    8/8/2017   \n",
       "\n",
       "      reviews_per_month  calculated_host_listings_count  availability_365  \n",
       "9994                NaN                               1                 0  \n",
       "9995               0.57                               1                 0  \n",
       "9996               0.51                               1                 2  \n",
       "9997               0.02                               2                 0  \n",
       "9998               0.06                               1                 0  "
      ]
     },
     "metadata": {},
     "output_type": "display_data"
    },
    {
     "name": "stdout",
     "output_type": "stream",
     "text": [
      "Our datasets has dimensions (9999, 15)\n"
     ]
    }
   ],
   "source": [
    "display(type(data))\n",
    "display(data.head(5))\n",
    "display(data.tail(5))\n",
    "print(\"Our datasets has dimensions\", data.shape)"
   ]
  },
  {
   "cell_type": "code",
   "execution_count": 4,
   "metadata": {},
   "outputs": [
    {
     "name": "stdout",
     "output_type": "stream",
     "text": [
      "['name', 'host_id', 'host_name', 'neighbourhood_group', 'neighbourhood', 'latitude', 'longitude', 'room_type', 'price', 'minimum_nights', 'number_of_reviews', 'last_review', 'reviews_per_month', 'calculated_host_listings_count', 'availability_365']\n"
     ]
    }
   ],
   "source": [
    "names = list(data)\n",
    "print(names)"
   ]
  },
  {
   "cell_type": "code",
   "execution_count": 5,
   "metadata": {},
   "outputs": [
    {
     "name": "stdout",
     "output_type": "stream",
     "text": [
      "<class 'pandas.core.frame.DataFrame'>\n",
      "RangeIndex: 9999 entries, 0 to 9998\n",
      "Data columns (total 15 columns):\n",
      " #   Column                          Non-Null Count  Dtype  \n",
      "---  ------                          --------------  -----  \n",
      " 0   name                            9991 non-null   object \n",
      " 1   host_id                         9999 non-null   int64  \n",
      " 2   host_name                       9989 non-null   object \n",
      " 3   neighbourhood_group             9999 non-null   object \n",
      " 4   neighbourhood                   9999 non-null   object \n",
      " 5   latitude                        9999 non-null   float64\n",
      " 6   longitude                       9999 non-null   float64\n",
      " 7   room_type                       9999 non-null   object \n",
      " 8   price                           9999 non-null   int64  \n",
      " 9   minimum_nights                  9999 non-null   int64  \n",
      " 10  number_of_reviews               9999 non-null   int64  \n",
      " 11  last_review                     8677 non-null   object \n",
      " 12  reviews_per_month               8677 non-null   float64\n",
      " 13  calculated_host_listings_count  9999 non-null   int64  \n",
      " 14  availability_365                9999 non-null   int64  \n",
      "dtypes: float64(3), int64(6), object(6)\n",
      "memory usage: 1.1+ MB\n"
     ]
    }
   ],
   "source": [
    "data.info()"
   ]
  },
  {
   "cell_type": "code",
   "execution_count": 6,
   "metadata": {},
   "outputs": [],
   "source": [
    "#histograms for numerical features"
   ]
  },
  {
   "cell_type": "markdown",
   "metadata": {},
   "source": [
    "I used the in-built hist() function to plot histograms for the numerical features of the dataset, here I found out that the values are quite scattered for X-axis , so in my X-axis vs count plots I saw that there were a lot of values of X for which a corresponding count on Y-axis did not exist, this is where I realised that if I cleaned the data and then try to make the histograms , I might get better results.First,I thought about dropping columns but that did not feel necessary as there were no coloumns with a huge amount of null values, So I calculated deviation of values in price column from it's mean, and repeated the same for minimum_nights,number_of_reviews,reviews_per_month and calculated_host_listings_count. After cleaning the data I made these plots again with a maximum value constariant so I could get better plots . "
   ]
  },
  {
   "cell_type": "code",
   "execution_count": 7,
   "metadata": {},
   "outputs": [
    {
     "data": {
      "image/png": "[encoded data removed]",
      "text/plain": [
       "<Figure size 432x288 with 1 Axes>"
      ]
     },
     "metadata": {
      "needs_background": "light"
     },
     "output_type": "display_data"
    },
    {
     "data": {
      "image/png": "[encoded data removed]",
      "text/plain": [
       "<Figure size 432x288 with 1 Axes>"
      ]
     },
     "metadata": {
      "needs_background": "light"
     },
     "output_type": "display_data"
    },
    {
     "data": {
      "image/png": "[encoded data removed]",
      "text/plain": [
       "<Figure size 432x288 with 1 Axes>"
      ]
     },
     "metadata": {
      "needs_background": "light"
     },
     "output_type": "display_data"
    },
    {
     "data": {
      "image/png": "[encoded data removed]",
      "text/plain": [
       "<Figure size 432x288 with 1 Axes>"
      ]
     },
     "metadata": {
      "needs_background": "light"
     },
     "output_type": "display_data"
    },
    {
     "data": {
      "image/png": "[encoded data removed]",
      "text/plain": [
       "<Figure size 432x288 with 1 Axes>"
      ]
     },
     "metadata": {
      "needs_background": "light"
     },
     "output_type": "display_data"
    },
    {
     "data": {
      "image/png": "[encoded data removed]",
      "text/plain": [
       "<Figure size 432x288 with 1 Axes>"
      ]
     },
     "metadata": {
      "needs_background": "light"
     },
     "output_type": "display_data"
    },
    {
     "data": {
      "image/png": "[encoded data removed]",
      "text/plain": [
       "<Figure size 432x288 with 1 Axes>"
      ]
     },
     "metadata": {
      "needs_background": "light"
     },
     "output_type": "display_data"
    },
    {
     "data": {
      "image/png": "[encoded data removed]",
      "text/plain": [
       "<Figure size 432x288 with 1 Axes>"
      ]
     },
     "metadata": {
      "needs_background": "light"
     },
     "output_type": "display_data"
    },
    {
     "data": {
      "image/png": "[encoded data removed]",
      "text/plain": [
       "<Figure size 432x288 with 1 Axes>"
      ]
     },
     "metadata": {
      "needs_background": "light"
     },
     "output_type": "display_data"
    }
   ],
   "source": [
    "from matplotlib import pyplot as plt\n",
    "fig1, ax1 = plt.subplots()\n",
    "x = data.price <809\n",
    "ax1.hist(data.price[x],bins=50, rwidth=1)\n",
    "ax1.set_xlabel(\"Price\", fontsize=20)\n",
    "ax1.set_ylabel(\"Count\", fontsize=20)\n",
    "ax1.set_title(\"How much do Airbnbs cost?\", fontsize=20)\n",
    "\n",
    "fig2, ax2 = plt.subplots()\n",
    "ax2.hist(data.longitude,bins=50, rwidth=.8)\n",
    "ax2.set_xlabel(\"longitude\", fontsize=20)\n",
    "ax2.set_ylabel(\"Count\", fontsize=20)\n",
    "ax2.set_title(\"longitude of the location\", fontsize=20)\n",
    "\n",
    "fig3, ax3 = plt.subplots()\n",
    "ax3.hist(data.latitude,bins=50, rwidth=.8)\n",
    "ax3.set_xlabel(\"latitude\", fontsize=20)\n",
    "ax3.set_ylabel(\"Count\", fontsize=20)\n",
    "ax3.set_title(\"latitude of the location\", fontsize=20)\n",
    "\n",
    "fig4, ax4 = plt.subplots()\n",
    "ax4.hist(data.host_id,bins=50, rwidth=.8)\n",
    "ax4.set_xlabel(\"HOST IDs\", fontsize=20)\n",
    "ax4.set_ylabel(\"Count\", fontsize=20)\n",
    "ax4.set_title(\"Host IDs\", fontsize=20)\n",
    "\n",
    "fig5, ax5 = plt.subplots()\n",
    "#y = abs(data.minimum_nights-data.minimum_nights.mean()) < 2*(data.minimum_nights.std())\n",
    "y= data.minimum_nights < 2*(data.minimum_nights.std())\n",
    "ax5.hist(data.minimum_nights[y],bins=50, rwidth=.8)\n",
    "ax5.set_xlabel(\"minimum nights\", fontsize=20)\n",
    "ax5.set_ylabel(\"Count\", fontsize=20)\n",
    "ax5.set_title(\"minimum nights stayed at Airbnb\", fontsize=20)\n",
    "fig6, ax6 = plt.subplots()\n",
    "\n",
    "#z=abs(data.number_of_reviews-data.number_of_reviews.mean()) < 2*(data.number_of_reviews.std())\n",
    "z= data.number_of_reviews < 2*(data.number_of_reviews.std())\n",
    "ax6.hist(data.number_of_reviews[z],bins=50, rwidth=.8)\n",
    "ax6.set_xlabel(\"reviews\", fontsize=20)\n",
    "ax6.set_ylabel(\"Count\", fontsize=20)\n",
    "ax6.set_title(\"What is the number of reviews?\", fontsize=20)\n",
    "\n",
    "fig7, ax7 = plt.subplots()\n",
    "#p=abs(data.reviews_per_month-data.reviews_per_month.mean()) < 2*(data.reviews_per_month.std())\n",
    "p=data.reviews_per_month < 2*(data.reviews_per_month.std())\n",
    "ax7.hist(data.reviews_per_month[p],bins=50, rwidth=.8)\n",
    "ax7.set_xlabel(\"Reviews on monthly basis\", fontsize=20)\n",
    "ax7.set_ylabel(\"Count\", fontsize=20)\n",
    "ax7.set_title(\"Reviews recieved per month\", fontsize=20)\n",
    "\n",
    "fig8, ax8 = plt.subplots()\n",
    "#q=abs(data.calculated_host_listings_count-data.calculated_host_listings_count.mean())<2*(data.calculated_host_listings_count.std())\n",
    "q=data.calculated_host_listings_count<2*(data.calculated_host_listings_count.std())\n",
    "ax8.hist(data.calculated_host_listings_count[q],bins=50, rwidth=.8)\n",
    "ax8.set_xlabel(\"The count of host listings\", fontsize=20)\n",
    "ax8.set_ylabel(\"Count\", fontsize=20)\n",
    "ax8.set_title(\"host listings\", fontsize=20)\n",
    "\n",
    "fig9, ax9 = plt.subplots()\n",
    "ax9.hist(data.availability_365,bins=50, rwidth=.8)\n",
    "ax9.set_xlabel(\"Availability of an Airbnb per year\", fontsize=20)\n",
    "ax9.set_ylabel(\"Count\", fontsize=20)\n",
    "ax9.set_title(\"Available days in an year\", fontsize=20)\n",
    "plt.show()"
   ]
  },
  {
   "cell_type": "markdown",
   "metadata": {},
   "source": [
    "In the second question, to calculate scatter plots , I used the same values for the aforementioned coloumns, to get scatter plots for the cleaned data. I selected all the numerical features from the dataset which I wanted to plot. Then I made 9 scatter plots of every numerical feature vs price of the Airbnb. To make these plots in Python we use Matplotlib library of Python. "
   ]
  },
  {
   "cell_type": "code",
   "execution_count": 8,
   "metadata": {},
   "outputs": [],
   "source": [
    "#Scatter plots of price "
   ]
  },
  {
   "cell_type": "code",
   "execution_count": 9,
   "metadata": {},
   "outputs": [
    {
     "data": {
      "text/html": [
       "<div>\n",
       "<style scoped>\n",
       "    .dataframe tbody tr th:only-of-type {\n",
       "        vertical-align: middle;\n",
       "    }\n",
       "\n",
       "    .dataframe tbody tr th {\n",
       "        vertical-align: top;\n",
       "    }\n",
       "\n",
       "    .dataframe thead th {\n",
       "        text-align: right;\n",
       "    }\n",
       "</style>\n",
       "<table border=\"1\" class=\"dataframe\">\n",
       "  <thead>\n",
       "    <tr style=\"text-align: right;\">\n",
       "      <th></th>\n",
       "      <th>host_id</th>\n",
       "      <th>latitude</th>\n",
       "      <th>longitude</th>\n",
       "      <th>price</th>\n",
       "      <th>minimum_nights</th>\n",
       "      <th>number_of_reviews</th>\n",
       "      <th>reviews_per_month</th>\n",
       "      <th>calculated_host_listings_count</th>\n",
       "      <th>availability_365</th>\n",
       "    </tr>\n",
       "  </thead>\n",
       "  <tbody>\n",
       "    <tr>\n",
       "      <th>0</th>\n",
       "      <td>2787</td>\n",
       "      <td>40.64749</td>\n",
       "      <td>-73.97237</td>\n",
       "      <td>149</td>\n",
       "      <td>1</td>\n",
       "      <td>9</td>\n",
       "      <td>0.21</td>\n",
       "      <td>6</td>\n",
       "      <td>365</td>\n",
       "    </tr>\n",
       "    <tr>\n",
       "      <th>1</th>\n",
       "      <td>2845</td>\n",
       "      <td>40.75362</td>\n",
       "      <td>-73.98377</td>\n",
       "      <td>225</td>\n",
       "      <td>1</td>\n",
       "      <td>45</td>\n",
       "      <td>0.38</td>\n",
       "      <td>2</td>\n",
       "      <td>355</td>\n",
       "    </tr>\n",
       "    <tr>\n",
       "      <th>2</th>\n",
       "      <td>4632</td>\n",
       "      <td>40.80902</td>\n",
       "      <td>-73.94190</td>\n",
       "      <td>150</td>\n",
       "      <td>3</td>\n",
       "      <td>0</td>\n",
       "      <td>NaN</td>\n",
       "      <td>1</td>\n",
       "      <td>365</td>\n",
       "    </tr>\n",
       "    <tr>\n",
       "      <th>3</th>\n",
       "      <td>4869</td>\n",
       "      <td>40.68514</td>\n",
       "      <td>-73.95976</td>\n",
       "      <td>89</td>\n",
       "      <td>1</td>\n",
       "      <td>270</td>\n",
       "      <td>4.64</td>\n",
       "      <td>1</td>\n",
       "      <td>194</td>\n",
       "    </tr>\n",
       "    <tr>\n",
       "      <th>4</th>\n",
       "      <td>7192</td>\n",
       "      <td>40.79851</td>\n",
       "      <td>-73.94399</td>\n",
       "      <td>80</td>\n",
       "      <td>10</td>\n",
       "      <td>9</td>\n",
       "      <td>0.10</td>\n",
       "      <td>1</td>\n",
       "      <td>0</td>\n",
       "    </tr>\n",
       "  </tbody>\n",
       "</table>\n",
       "</div>"
      ],
      "text/plain": [
       "   host_id  latitude  longitude  price  minimum_nights  number_of_reviews  \\\n",
       "0     2787  40.64749  -73.97237    149               1                  9   \n",
       "1     2845  40.75362  -73.98377    225               1                 45   \n",
       "2     4632  40.80902  -73.94190    150               3                  0   \n",
       "3     4869  40.68514  -73.95976     89               1                270   \n",
       "4     7192  40.79851  -73.94399     80              10                  9   \n",
       "\n",
       "   reviews_per_month  calculated_host_listings_count  availability_365  \n",
       "0               0.21                               6               365  \n",
       "1               0.38                               2               355  \n",
       "2                NaN                               1               365  \n",
       "3               4.64                               1               194  \n",
       "4               0.10                               1                 0  "
      ]
     },
     "metadata": {},
     "output_type": "display_data"
    }
   ],
   "source": [
    "nums = data.select_dtypes(include=['int64','float64']) #selecting all the numerical features\n",
    "display(nums.head(5))"
   ]
  },
  {
   "cell_type": "code",
   "execution_count": 39,
   "metadata": {},
   "outputs": [
    {
     "data": {
      "image/png": "[encoded data removed]",
      "text/plain": [
       "<Figure size 720x504 with 1 Axes>"
      ]
     },
     "metadata": {
      "needs_background": "light"
     },
     "output_type": "display_data"
    },
    {
     "data": {
      "image/png": "[encoded data removed]",
      "text/plain": [
       "<Figure size 720x504 with 1 Axes>"
      ]
     },
     "metadata": {
      "needs_background": "light"
     },
     "output_type": "display_data"
    },
    {
     "data": {
      "image/png": "[encoded data removed]",
      "text/plain": [
       "<Figure size 720x504 with 1 Axes>"
      ]
     },
     "metadata": {
      "needs_background": "light"
     },
     "output_type": "display_data"
    },
    {
     "data": {
      "image/png": "[encoded data removed]",
      "text/plain": [
       "<Figure size 720x504 with 1 Axes>"
      ]
     },
     "metadata": {
      "needs_background": "light"
     },
     "output_type": "display_data"
    },
    {
     "data": {
      "image/png": "[encoded data removed]",
      "text/plain": [
       "<Figure size 720x504 with 1 Axes>"
      ]
     },
     "metadata": {
      "needs_background": "light"
     },
     "output_type": "display_data"
    },
    {
     "data": {
      "image/png": "[encoded data removed]",
      "text/plain": [
       "<Figure size 720x504 with 1 Axes>"
      ]
     },
     "metadata": {
      "needs_background": "light"
     },
     "output_type": "display_data"
    },
    {
     "data": {
      "image/png": "[encoded data removed]",
      "text/plain": [
       "<Figure size 720x504 with 1 Axes>"
      ]
     },
     "metadata": {
      "needs_background": "light"
     },
     "output_type": "display_data"
    },
    {
     "data": {
      "image/png": "[encoded data removed]",
      "text/plain": [
       "<Figure size 720x504 with 1 Axes>"
      ]
     },
     "metadata": {
      "needs_background": "light"
     },
     "output_type": "display_data"
    },
    {
     "data": {
      "image/png": "[encoded data removed]",
      "text/plain": [
       "<Figure size 720x504 with 1 Axes>"
      ]
     },
     "metadata": {
      "needs_background": "light"
     },
     "output_type": "display_data"
    }
   ],
   "source": [
    "fig, ax = plt.subplots()\n",
    "\n",
    "ax.plot(nums.price,nums.price,'o')\n",
    "ax.set_xlabel(\"Price\", fontsize=20)\n",
    "ax.set_ylabel(\"Price\", fontsize=20)\n",
    "ax.set_title(\"Price vs Price\", fontsize=20)\n",
    "fig.set_size_inches(10, 7)\n",
    "fig1, ax1 = plt.subplots()\n",
    "\n",
    "ax1.plot(nums.latitude,nums.price,'o')\n",
    "ax1.set_xlabel(\"latitude\", fontsize=20)\n",
    "ax1.set_ylabel(\"Price\", fontsize=20)\n",
    "ax1.set_title(\"latitude vs Price\", fontsize=20)\n",
    "fig1.set_size_inches(10, 7)\n",
    "\n",
    "fig2, ax2 = plt.subplots()\n",
    "\n",
    "ax2.plot(nums.longitude,nums.price,'o')\n",
    "ax2.set_xlabel(\"longitude\", fontsize=20)\n",
    "ax2.set_ylabel(\"Price\", fontsize=20)\n",
    "ax2.set_title(\"longitude vs Price\", fontsize=20)\n",
    "fig2.set_size_inches(10, 7)\n",
    "\n",
    "fig3, ax3 = plt.subplots()\n",
    "\n",
    "ax3.plot(nums.host_id,nums.price,'o')\n",
    "ax3.set_xlabel(\"host_id\", fontsize=20)\n",
    "ax3.set_ylabel(\"Price\", fontsize=20)\n",
    "ax3.set_title(\"Host IDs vs Price\", fontsize=20)\n",
    "fig3.set_size_inches(10, 7)\n",
    "fig4, ax4 = plt.subplots()\n",
    "\n",
    "ax4.plot(nums.minimum_nights[y],nums.price[y],'o') #y,z,p and q were calculated above to get \"cleaner\" and \"better\" plots\n",
    "ax4.set_xlabel(\"minimum_nights\", fontsize=20)\n",
    "ax4.set_ylabel(\"Price\", fontsize=20)\n",
    "ax4.set_title(\"minimum_nights vs Price\", fontsize=20)\n",
    "fig4.set_size_inches(10, 7)\n",
    "fig5, ax5 = plt.subplots()\n",
    "\n",
    "ax5.plot(nums.number_of_reviews[z],nums.price[z],'o')\n",
    "ax5.set_xlabel(\"number_of_reviews\", fontsize=20)\n",
    "ax5.set_ylabel(\"Price\", fontsize=20)\n",
    "ax5.set_title(\"number_of_reviews vs Price\", fontsize=20)\n",
    "fig5.set_size_inches(10, 7)\n",
    "\n",
    "fig6, ax6 = plt.subplots()\n",
    "ax6.plot(nums.reviews_per_month[p],nums.price[p],'o')\n",
    "ax6.set_xlabel(\"reviews_per_month\", fontsize=20)\n",
    "ax6.set_ylabel(\"Price\", fontsize=20)\n",
    "ax6.set_title(\"reviews_per_month vs Price\", fontsize=20)\n",
    "fig6.set_size_inches(10, 7)\n",
    "fig7, ax7 = plt.subplots()\n",
    "ax7.plot(nums.calculated_host_listings_count[q],nums.price[q],'o')\n",
    "ax7.set_xlabel(\"calculated_host_listings_count\", fontsize=20)\n",
    "ax7.set_ylabel(\"Price\", fontsize=20)\n",
    "ax7.set_title(\"calculated_host_listings_count vs Price\", fontsize=20)\n",
    "fig7.set_size_inches(10, 7)\n",
    "fig8, ax8 = plt.subplots()\n",
    "\n",
    "ax8.plot(nums.availability_365,nums.price,'o')\n",
    "ax8.set_xlabel(\"availability\", fontsize=20)\n",
    "ax8.set_ylabel(\"Price\", fontsize=20)\n",
    "ax8.set_title(\"availability vs Price\", fontsize=20)\n",
    "fig8.set_size_inches(10, 7)\n",
    "plt.show()"
   ]
  },
  {
   "cell_type": "markdown",
   "metadata": {},
   "source": [
    "So far I have only been cleaning data during the plotting process to get better results, but I didn't clean the original data and at this stage , I realised that  should have made the changes in the original dataframe beforehand, that is I should have cleaned the entire dataset and then could have easily used it for all the plots. So better late than never! I cleaned the original dataset and made a new data set with all the numerical features and desired values.Then I used the heatmap() function from seaborn library to get the following correlation matrix"
   ]
  },
  {
   "cell_type": "code",
   "execution_count": 11,
   "metadata": {},
   "outputs": [],
   "source": [
    "#data cleaning followed by correlation matrix plot"
   ]
  },
  {
   "cell_type": "code",
   "execution_count": 12,
   "metadata": {},
   "outputs": [],
   "source": [
    "#calculating 2 and 3 standard deviations to clean data following the 68–95–99.7 rule ( the empirical rule) . Played around with some values \n",
    "#to determine if for a particular coloumn is it better to go with 2  or 3 standard deviations from the mean\n",
    "data_1=nums[np.abs(nums.price-nums.price.mean())<= (3*nums.price.std())]\n",
    "data_2=data_1[np.abs(data_1.minimum_nights- data_1.minimum_nights.mean())<= (2*nums.minimum_nights.std())]\n",
    "data_3=data_2[np.abs(data_2.number_of_reviews- data_2.number_of_reviews.mean())<= (2*nums.number_of_reviews.std())]\n",
    "data_4=data_3[np.abs(data_3.reviews_per_month- data_3.reviews_per_month.mean())<= (2*nums.reviews_per_month.std())]\n",
    "data_new=data_4[np.abs(data_4.calculated_host_listings_count- data_4.calculated_host_listings_count.mean())<= (2*nums.calculated_host_listings_count.std())]\n",
    "\n"
   ]
  },
  {
   "cell_type": "code",
   "execution_count": 13,
   "metadata": {},
   "outputs": [
    {
     "data": {
      "image/png": "[encoded data removed]",
      "text/plain": [
       "<Figure size 1008x720 with 2 Axes>"
      ]
     },
     "metadata": {
      "needs_background": "light"
     },
     "output_type": "display_data"
    }
   ],
   "source": [
    "#Heatmap\n",
    "import pandas as pd\n",
    "import seaborn as sns\n",
    "fig,ax = plt.subplots(figsize=(14, 10))\n",
    "sns.heatmap(data_new.corr(), ax=ax, linewidths=0.05,cmap=\"magma\")\n",
    "plt.show() "
   ]
  },
  {
   "cell_type": "code",
   "execution_count": 14,
   "metadata": {},
   "outputs": [
    {
     "data": {
      "text/html": [
       "<div>\n",
       "<style scoped>\n",
       "    .dataframe tbody tr th:only-of-type {\n",
       "        vertical-align: middle;\n",
       "    }\n",
       "\n",
       "    .dataframe tbody tr th {\n",
       "        vertical-align: top;\n",
       "    }\n",
       "\n",
       "    .dataframe thead th {\n",
       "        text-align: right;\n",
       "    }\n",
       "</style>\n",
       "<table border=\"1\" class=\"dataframe\">\n",
       "  <thead>\n",
       "    <tr style=\"text-align: right;\">\n",
       "      <th></th>\n",
       "      <th>host_id</th>\n",
       "      <th>latitude</th>\n",
       "      <th>longitude</th>\n",
       "      <th>price</th>\n",
       "      <th>minimum_nights</th>\n",
       "      <th>number_of_reviews</th>\n",
       "      <th>reviews_per_month</th>\n",
       "      <th>calculated_host_listings_count</th>\n",
       "      <th>availability_365</th>\n",
       "    </tr>\n",
       "  </thead>\n",
       "  <tbody>\n",
       "    <tr>\n",
       "      <th>host_id</th>\n",
       "      <td>1.000000</td>\n",
       "      <td>0.053133</td>\n",
       "      <td>0.095909</td>\n",
       "      <td>-0.059024</td>\n",
       "      <td>-0.066685</td>\n",
       "      <td>-0.124636</td>\n",
       "      <td>-0.011505</td>\n",
       "      <td>-0.020464</td>\n",
       "      <td>-0.100541</td>\n",
       "    </tr>\n",
       "    <tr>\n",
       "      <th>latitude</th>\n",
       "      <td>0.053133</td>\n",
       "      <td>1.000000</td>\n",
       "      <td>0.158646</td>\n",
       "      <td>0.014864</td>\n",
       "      <td>0.016379</td>\n",
       "      <td>-0.027805</td>\n",
       "      <td>-0.027570</td>\n",
       "      <td>0.015343</td>\n",
       "      <td>0.000988</td>\n",
       "    </tr>\n",
       "    <tr>\n",
       "      <th>longitude</th>\n",
       "      <td>0.095909</td>\n",
       "      <td>0.158646</td>\n",
       "      <td>1.000000</td>\n",
       "      <td>-0.263524</td>\n",
       "      <td>-0.055318</td>\n",
       "      <td>0.056679</td>\n",
       "      <td>0.084700</td>\n",
       "      <td>0.147037</td>\n",
       "      <td>0.150768</td>\n",
       "    </tr>\n",
       "    <tr>\n",
       "      <th>price</th>\n",
       "      <td>-0.059024</td>\n",
       "      <td>0.014864</td>\n",
       "      <td>-0.263524</td>\n",
       "      <td>1.000000</td>\n",
       "      <td>-0.026848</td>\n",
       "      <td>-0.026154</td>\n",
       "      <td>-0.039576</td>\n",
       "      <td>-0.113952</td>\n",
       "      <td>0.045194</td>\n",
       "    </tr>\n",
       "    <tr>\n",
       "      <th>minimum_nights</th>\n",
       "      <td>-0.066685</td>\n",
       "      <td>0.016379</td>\n",
       "      <td>-0.055318</td>\n",
       "      <td>-0.026848</td>\n",
       "      <td>1.000000</td>\n",
       "      <td>-0.104779</td>\n",
       "      <td>-0.128793</td>\n",
       "      <td>0.181846</td>\n",
       "      <td>0.124700</td>\n",
       "    </tr>\n",
       "    <tr>\n",
       "      <th>number_of_reviews</th>\n",
       "      <td>-0.124636</td>\n",
       "      <td>-0.027805</td>\n",
       "      <td>0.056679</td>\n",
       "      <td>-0.026154</td>\n",
       "      <td>-0.104779</td>\n",
       "      <td>1.000000</td>\n",
       "      <td>0.915078</td>\n",
       "      <td>0.103826</td>\n",
       "      <td>0.324526</td>\n",
       "    </tr>\n",
       "    <tr>\n",
       "      <th>reviews_per_month</th>\n",
       "      <td>-0.011505</td>\n",
       "      <td>-0.027570</td>\n",
       "      <td>0.084700</td>\n",
       "      <td>-0.039576</td>\n",
       "      <td>-0.128793</td>\n",
       "      <td>0.915078</td>\n",
       "      <td>1.000000</td>\n",
       "      <td>0.104280</td>\n",
       "      <td>0.300817</td>\n",
       "    </tr>\n",
       "    <tr>\n",
       "      <th>calculated_host_listings_count</th>\n",
       "      <td>-0.020464</td>\n",
       "      <td>0.015343</td>\n",
       "      <td>0.147037</td>\n",
       "      <td>-0.113952</td>\n",
       "      <td>0.181846</td>\n",
       "      <td>0.103826</td>\n",
       "      <td>0.104280</td>\n",
       "      <td>1.000000</td>\n",
       "      <td>0.271640</td>\n",
       "    </tr>\n",
       "    <tr>\n",
       "      <th>availability_365</th>\n",
       "      <td>-0.100541</td>\n",
       "      <td>0.000988</td>\n",
       "      <td>0.150768</td>\n",
       "      <td>0.045194</td>\n",
       "      <td>0.124700</td>\n",
       "      <td>0.324526</td>\n",
       "      <td>0.300817</td>\n",
       "      <td>0.271640</td>\n",
       "      <td>1.000000</td>\n",
       "    </tr>\n",
       "  </tbody>\n",
       "</table>\n",
       "</div>"
      ],
      "text/plain": [
       "                                 host_id  latitude  longitude     price  \\\n",
       "host_id                         1.000000  0.053133   0.095909 -0.059024   \n",
       "latitude                        0.053133  1.000000   0.158646  0.014864   \n",
       "longitude                       0.095909  0.158646   1.000000 -0.263524   \n",
       "price                          -0.059024  0.014864  -0.263524  1.000000   \n",
       "minimum_nights                 -0.066685  0.016379  -0.055318 -0.026848   \n",
       "number_of_reviews              -0.124636 -0.027805   0.056679 -0.026154   \n",
       "reviews_per_month              -0.011505 -0.027570   0.084700 -0.039576   \n",
       "calculated_host_listings_count -0.020464  0.015343   0.147037 -0.113952   \n",
       "availability_365               -0.100541  0.000988   0.150768  0.045194   \n",
       "\n",
       "                                minimum_nights  number_of_reviews  \\\n",
       "host_id                              -0.066685          -0.124636   \n",
       "latitude                              0.016379          -0.027805   \n",
       "longitude                            -0.055318           0.056679   \n",
       "price                                -0.026848          -0.026154   \n",
       "minimum_nights                        1.000000          -0.104779   \n",
       "number_of_reviews                    -0.104779           1.000000   \n",
       "reviews_per_month                    -0.128793           0.915078   \n",
       "calculated_host_listings_count        0.181846           0.103826   \n",
       "availability_365                      0.124700           0.324526   \n",
       "\n",
       "                                reviews_per_month  \\\n",
       "host_id                                 -0.011505   \n",
       "latitude                                -0.027570   \n",
       "longitude                                0.084700   \n",
       "price                                   -0.039576   \n",
       "minimum_nights                          -0.128793   \n",
       "number_of_reviews                        0.915078   \n",
       "reviews_per_month                        1.000000   \n",
       "calculated_host_listings_count           0.104280   \n",
       "availability_365                         0.300817   \n",
       "\n",
       "                                calculated_host_listings_count  \\\n",
       "host_id                                              -0.020464   \n",
       "latitude                                              0.015343   \n",
       "longitude                                             0.147037   \n",
       "price                                                -0.113952   \n",
       "minimum_nights                                        0.181846   \n",
       "number_of_reviews                                     0.103826   \n",
       "reviews_per_month                                     0.104280   \n",
       "calculated_host_listings_count                        1.000000   \n",
       "availability_365                                      0.271640   \n",
       "\n",
       "                                availability_365  \n",
       "host_id                                -0.100541  \n",
       "latitude                                0.000988  \n",
       "longitude                               0.150768  \n",
       "price                                   0.045194  \n",
       "minimum_nights                          0.124700  \n",
       "number_of_reviews                       0.324526  \n",
       "reviews_per_month                       0.300817  \n",
       "calculated_host_listings_count          0.271640  \n",
       "availability_365                        1.000000  "
      ]
     },
     "execution_count": 14,
     "metadata": {},
     "output_type": "execute_result"
    }
   ],
   "source": [
    "data_new.corr() #correlation matrix"
   ]
  },
  {
   "cell_type": "markdown",
   "metadata": {},
   "source": [
    "After this , We were supposed to do linear regression to predict the renting price , I started it with taking my cleaned dataset"
   ]
  },
  {
   "cell_type": "code",
   "execution_count": 15,
   "metadata": {},
   "outputs": [],
   "source": [
    " #Using numerical features to predict the renting price."
   ]
  },
  {
   "cell_type": "code",
   "execution_count": 16,
   "metadata": {},
   "outputs": [
    {
     "data": {
      "text/html": [
       "<div>\n",
       "<style scoped>\n",
       "    .dataframe tbody tr th:only-of-type {\n",
       "        vertical-align: middle;\n",
       "    }\n",
       "\n",
       "    .dataframe tbody tr th {\n",
       "        vertical-align: top;\n",
       "    }\n",
       "\n",
       "    .dataframe thead th {\n",
       "        text-align: right;\n",
       "    }\n",
       "</style>\n",
       "<table border=\"1\" class=\"dataframe\">\n",
       "  <thead>\n",
       "    <tr style=\"text-align: right;\">\n",
       "      <th></th>\n",
       "      <th>host_id</th>\n",
       "      <th>latitude</th>\n",
       "      <th>longitude</th>\n",
       "      <th>price</th>\n",
       "      <th>minimum_nights</th>\n",
       "      <th>number_of_reviews</th>\n",
       "      <th>reviews_per_month</th>\n",
       "      <th>calculated_host_listings_count</th>\n",
       "      <th>availability_365</th>\n",
       "    </tr>\n",
       "  </thead>\n",
       "  <tbody>\n",
       "    <tr>\n",
       "      <th>0</th>\n",
       "      <td>2787</td>\n",
       "      <td>40.64749</td>\n",
       "      <td>-73.97237</td>\n",
       "      <td>149</td>\n",
       "      <td>1</td>\n",
       "      <td>9</td>\n",
       "      <td>0.21</td>\n",
       "      <td>6</td>\n",
       "      <td>365</td>\n",
       "    </tr>\n",
       "    <tr>\n",
       "      <th>1</th>\n",
       "      <td>2845</td>\n",
       "      <td>40.75362</td>\n",
       "      <td>-73.98377</td>\n",
       "      <td>225</td>\n",
       "      <td>1</td>\n",
       "      <td>45</td>\n",
       "      <td>0.38</td>\n",
       "      <td>2</td>\n",
       "      <td>355</td>\n",
       "    </tr>\n",
       "    <tr>\n",
       "      <th>4</th>\n",
       "      <td>7192</td>\n",
       "      <td>40.79851</td>\n",
       "      <td>-73.94399</td>\n",
       "      <td>80</td>\n",
       "      <td>10</td>\n",
       "      <td>9</td>\n",
       "      <td>0.10</td>\n",
       "      <td>1</td>\n",
       "      <td>0</td>\n",
       "    </tr>\n",
       "    <tr>\n",
       "      <th>5</th>\n",
       "      <td>7322</td>\n",
       "      <td>40.74767</td>\n",
       "      <td>-73.97500</td>\n",
       "      <td>200</td>\n",
       "      <td>3</td>\n",
       "      <td>74</td>\n",
       "      <td>0.59</td>\n",
       "      <td>1</td>\n",
       "      <td>129</td>\n",
       "    </tr>\n",
       "    <tr>\n",
       "      <th>6</th>\n",
       "      <td>7356</td>\n",
       "      <td>40.68688</td>\n",
       "      <td>-73.95596</td>\n",
       "      <td>60</td>\n",
       "      <td>45</td>\n",
       "      <td>49</td>\n",
       "      <td>0.40</td>\n",
       "      <td>1</td>\n",
       "      <td>0</td>\n",
       "    </tr>\n",
       "    <tr>\n",
       "      <th>...</th>\n",
       "      <td>...</td>\n",
       "      <td>...</td>\n",
       "      <td>...</td>\n",
       "      <td>...</td>\n",
       "      <td>...</td>\n",
       "      <td>...</td>\n",
       "      <td>...</td>\n",
       "      <td>...</td>\n",
       "      <td>...</td>\n",
       "    </tr>\n",
       "    <tr>\n",
       "      <th>9991</th>\n",
       "      <td>347642</td>\n",
       "      <td>40.68022</td>\n",
       "      <td>-73.92795</td>\n",
       "      <td>100</td>\n",
       "      <td>3</td>\n",
       "      <td>120</td>\n",
       "      <td>2.63</td>\n",
       "      <td>3</td>\n",
       "      <td>220</td>\n",
       "    </tr>\n",
       "    <tr>\n",
       "      <th>9995</th>\n",
       "      <td>12620454</td>\n",
       "      <td>40.70442</td>\n",
       "      <td>-73.92484</td>\n",
       "      <td>220</td>\n",
       "      <td>5</td>\n",
       "      <td>27</td>\n",
       "      <td>0.57</td>\n",
       "      <td>1</td>\n",
       "      <td>0</td>\n",
       "    </tr>\n",
       "    <tr>\n",
       "      <th>9996</th>\n",
       "      <td>2060383</td>\n",
       "      <td>40.68732</td>\n",
       "      <td>-73.99245</td>\n",
       "      <td>147</td>\n",
       "      <td>3</td>\n",
       "      <td>23</td>\n",
       "      <td>0.51</td>\n",
       "      <td>1</td>\n",
       "      <td>2</td>\n",
       "    </tr>\n",
       "    <tr>\n",
       "      <th>9997</th>\n",
       "      <td>39956905</td>\n",
       "      <td>40.72811</td>\n",
       "      <td>-73.98453</td>\n",
       "      <td>95</td>\n",
       "      <td>2</td>\n",
       "      <td>1</td>\n",
       "      <td>0.02</td>\n",
       "      <td>2</td>\n",
       "      <td>0</td>\n",
       "    </tr>\n",
       "    <tr>\n",
       "      <th>9998</th>\n",
       "      <td>33064750</td>\n",
       "      <td>40.68282</td>\n",
       "      <td>-73.99774</td>\n",
       "      <td>160</td>\n",
       "      <td>5</td>\n",
       "      <td>2</td>\n",
       "      <td>0.06</td>\n",
       "      <td>1</td>\n",
       "      <td>0</td>\n",
       "    </tr>\n",
       "  </tbody>\n",
       "</table>\n",
       "<p>7549 rows × 9 columns</p>\n",
       "</div>"
      ],
      "text/plain": [
       "       host_id  latitude  longitude  price  minimum_nights  number_of_reviews  \\\n",
       "0         2787  40.64749  -73.97237    149               1                  9   \n",
       "1         2845  40.75362  -73.98377    225               1                 45   \n",
       "4         7192  40.79851  -73.94399     80              10                  9   \n",
       "5         7322  40.74767  -73.97500    200               3                 74   \n",
       "6         7356  40.68688  -73.95596     60              45                 49   \n",
       "...        ...       ...        ...    ...             ...                ...   \n",
       "9991    347642  40.68022  -73.92795    100               3                120   \n",
       "9995  12620454  40.70442  -73.92484    220               5                 27   \n",
       "9996   2060383  40.68732  -73.99245    147               3                 23   \n",
       "9997  39956905  40.72811  -73.98453     95               2                  1   \n",
       "9998  33064750  40.68282  -73.99774    160               5                  2   \n",
       "\n",
       "      reviews_per_month  calculated_host_listings_count  availability_365  \n",
       "0                  0.21                               6               365  \n",
       "1                  0.38                               2               355  \n",
       "4                  0.10                               1                 0  \n",
       "5                  0.59                               1               129  \n",
       "6                  0.40                               1                 0  \n",
       "...                 ...                             ...               ...  \n",
       "9991               2.63                               3               220  \n",
       "9995               0.57                               1                 0  \n",
       "9996               0.51                               1                 2  \n",
       "9997               0.02                               2                 0  \n",
       "9998               0.06                               1                 0  \n",
       "\n",
       "[7549 rows x 9 columns]"
      ]
     },
     "execution_count": 16,
     "metadata": {},
     "output_type": "execute_result"
    }
   ],
   "source": [
    "data_new"
   ]
  },
  {
   "cell_type": "code",
   "execution_count": 17,
   "metadata": {},
   "outputs": [],
   "source": [
    "nums_new = data_new.select_dtypes(include=['int64','float64'])\n"
   ]
  },
  {
   "cell_type": "code",
   "execution_count": 18,
   "metadata": {},
   "outputs": [
    {
     "data": {
      "text/plain": [
       "pandas.core.frame.DataFrame"
      ]
     },
     "execution_count": 18,
     "metadata": {},
     "output_type": "execute_result"
    }
   ],
   "source": [
    "type(nums_new)"
   ]
  },
  {
   "cell_type": "code",
   "execution_count": 19,
   "metadata": {},
   "outputs": [
    {
     "data": {
      "text/html": [
       "<div>\n",
       "<style scoped>\n",
       "    .dataframe tbody tr th:only-of-type {\n",
       "        vertical-align: middle;\n",
       "    }\n",
       "\n",
       "    .dataframe tbody tr th {\n",
       "        vertical-align: top;\n",
       "    }\n",
       "\n",
       "    .dataframe thead th {\n",
       "        text-align: right;\n",
       "    }\n",
       "</style>\n",
       "<table border=\"1\" class=\"dataframe\">\n",
       "  <thead>\n",
       "    <tr style=\"text-align: right;\">\n",
       "      <th></th>\n",
       "      <th>host_id</th>\n",
       "      <th>latitude</th>\n",
       "      <th>longitude</th>\n",
       "      <th>price</th>\n",
       "      <th>minimum_nights</th>\n",
       "      <th>number_of_reviews</th>\n",
       "      <th>reviews_per_month</th>\n",
       "      <th>calculated_host_listings_count</th>\n",
       "      <th>availability_365</th>\n",
       "    </tr>\n",
       "  </thead>\n",
       "  <tbody>\n",
       "    <tr>\n",
       "      <th>0</th>\n",
       "      <td>2787</td>\n",
       "      <td>40.64749</td>\n",
       "      <td>-73.97237</td>\n",
       "      <td>149</td>\n",
       "      <td>1</td>\n",
       "      <td>9</td>\n",
       "      <td>0.21</td>\n",
       "      <td>6</td>\n",
       "      <td>365</td>\n",
       "    </tr>\n",
       "    <tr>\n",
       "      <th>1</th>\n",
       "      <td>2845</td>\n",
       "      <td>40.75362</td>\n",
       "      <td>-73.98377</td>\n",
       "      <td>225</td>\n",
       "      <td>1</td>\n",
       "      <td>45</td>\n",
       "      <td>0.38</td>\n",
       "      <td>2</td>\n",
       "      <td>355</td>\n",
       "    </tr>\n",
       "    <tr>\n",
       "      <th>4</th>\n",
       "      <td>7192</td>\n",
       "      <td>40.79851</td>\n",
       "      <td>-73.94399</td>\n",
       "      <td>80</td>\n",
       "      <td>10</td>\n",
       "      <td>9</td>\n",
       "      <td>0.10</td>\n",
       "      <td>1</td>\n",
       "      <td>0</td>\n",
       "    </tr>\n",
       "    <tr>\n",
       "      <th>5</th>\n",
       "      <td>7322</td>\n",
       "      <td>40.74767</td>\n",
       "      <td>-73.97500</td>\n",
       "      <td>200</td>\n",
       "      <td>3</td>\n",
       "      <td>74</td>\n",
       "      <td>0.59</td>\n",
       "      <td>1</td>\n",
       "      <td>129</td>\n",
       "    </tr>\n",
       "    <tr>\n",
       "      <th>6</th>\n",
       "      <td>7356</td>\n",
       "      <td>40.68688</td>\n",
       "      <td>-73.95596</td>\n",
       "      <td>60</td>\n",
       "      <td>45</td>\n",
       "      <td>49</td>\n",
       "      <td>0.40</td>\n",
       "      <td>1</td>\n",
       "      <td>0</td>\n",
       "    </tr>\n",
       "    <tr>\n",
       "      <th>...</th>\n",
       "      <td>...</td>\n",
       "      <td>...</td>\n",
       "      <td>...</td>\n",
       "      <td>...</td>\n",
       "      <td>...</td>\n",
       "      <td>...</td>\n",
       "      <td>...</td>\n",
       "      <td>...</td>\n",
       "      <td>...</td>\n",
       "    </tr>\n",
       "    <tr>\n",
       "      <th>9991</th>\n",
       "      <td>347642</td>\n",
       "      <td>40.68022</td>\n",
       "      <td>-73.92795</td>\n",
       "      <td>100</td>\n",
       "      <td>3</td>\n",
       "      <td>120</td>\n",
       "      <td>2.63</td>\n",
       "      <td>3</td>\n",
       "      <td>220</td>\n",
       "    </tr>\n",
       "    <tr>\n",
       "      <th>9995</th>\n",
       "      <td>12620454</td>\n",
       "      <td>40.70442</td>\n",
       "      <td>-73.92484</td>\n",
       "      <td>220</td>\n",
       "      <td>5</td>\n",
       "      <td>27</td>\n",
       "      <td>0.57</td>\n",
       "      <td>1</td>\n",
       "      <td>0</td>\n",
       "    </tr>\n",
       "    <tr>\n",
       "      <th>9996</th>\n",
       "      <td>2060383</td>\n",
       "      <td>40.68732</td>\n",
       "      <td>-73.99245</td>\n",
       "      <td>147</td>\n",
       "      <td>3</td>\n",
       "      <td>23</td>\n",
       "      <td>0.51</td>\n",
       "      <td>1</td>\n",
       "      <td>2</td>\n",
       "    </tr>\n",
       "    <tr>\n",
       "      <th>9997</th>\n",
       "      <td>39956905</td>\n",
       "      <td>40.72811</td>\n",
       "      <td>-73.98453</td>\n",
       "      <td>95</td>\n",
       "      <td>2</td>\n",
       "      <td>1</td>\n",
       "      <td>0.02</td>\n",
       "      <td>2</td>\n",
       "      <td>0</td>\n",
       "    </tr>\n",
       "    <tr>\n",
       "      <th>9998</th>\n",
       "      <td>33064750</td>\n",
       "      <td>40.68282</td>\n",
       "      <td>-73.99774</td>\n",
       "      <td>160</td>\n",
       "      <td>5</td>\n",
       "      <td>2</td>\n",
       "      <td>0.06</td>\n",
       "      <td>1</td>\n",
       "      <td>0</td>\n",
       "    </tr>\n",
       "  </tbody>\n",
       "</table>\n",
       "<p>7549 rows × 9 columns</p>\n",
       "</div>"
      ],
      "text/plain": [
       "       host_id  latitude  longitude  price  minimum_nights  number_of_reviews  \\\n",
       "0         2787  40.64749  -73.97237    149               1                  9   \n",
       "1         2845  40.75362  -73.98377    225               1                 45   \n",
       "4         7192  40.79851  -73.94399     80              10                  9   \n",
       "5         7322  40.74767  -73.97500    200               3                 74   \n",
       "6         7356  40.68688  -73.95596     60              45                 49   \n",
       "...        ...       ...        ...    ...             ...                ...   \n",
       "9991    347642  40.68022  -73.92795    100               3                120   \n",
       "9995  12620454  40.70442  -73.92484    220               5                 27   \n",
       "9996   2060383  40.68732  -73.99245    147               3                 23   \n",
       "9997  39956905  40.72811  -73.98453     95               2                  1   \n",
       "9998  33064750  40.68282  -73.99774    160               5                  2   \n",
       "\n",
       "      reviews_per_month  calculated_host_listings_count  availability_365  \n",
       "0                  0.21                               6               365  \n",
       "1                  0.38                               2               355  \n",
       "4                  0.10                               1                 0  \n",
       "5                  0.59                               1               129  \n",
       "6                  0.40                               1                 0  \n",
       "...                 ...                             ...               ...  \n",
       "9991               2.63                               3               220  \n",
       "9995               0.57                               1                 0  \n",
       "9996               0.51                               1                 2  \n",
       "9997               0.02                               2                 0  \n",
       "9998               0.06                               1                 0  \n",
       "\n",
       "[7549 rows x 9 columns]"
      ]
     },
     "execution_count": 19,
     "metadata": {},
     "output_type": "execute_result"
    }
   ],
   "source": [
    "nums_new"
   ]
  },
  {
   "cell_type": "markdown",
   "metadata": {},
   "source": [
    "To apply the function we learned in class to calculate linear regression using linear algebra,I had to make an X data matrix containing all the multiple features that influences price of an Airbnb , So my X data matrix first and foremost need to be independent of Price column, because that's what we are trying to predict, So I dropped the price column for X-axis. Then I made a seperate Y coloumn matrix that has all the price values. "
   ]
  },
  {
   "cell_type": "code",
   "execution_count": 20,
   "metadata": {},
   "outputs": [],
   "source": [
    "X=nums_new.drop(['price'],axis=1)"
   ]
  },
  {
   "cell_type": "code",
   "execution_count": 21,
   "metadata": {},
   "outputs": [
    {
     "data": {
      "text/html": [
       "<div>\n",
       "<style scoped>\n",
       "    .dataframe tbody tr th:only-of-type {\n",
       "        vertical-align: middle;\n",
       "    }\n",
       "\n",
       "    .dataframe tbody tr th {\n",
       "        vertical-align: top;\n",
       "    }\n",
       "\n",
       "    .dataframe thead th {\n",
       "        text-align: right;\n",
       "    }\n",
       "</style>\n",
       "<table border=\"1\" class=\"dataframe\">\n",
       "  <thead>\n",
       "    <tr style=\"text-align: right;\">\n",
       "      <th></th>\n",
       "      <th>host_id</th>\n",
       "      <th>latitude</th>\n",
       "      <th>longitude</th>\n",
       "      <th>minimum_nights</th>\n",
       "      <th>number_of_reviews</th>\n",
       "      <th>reviews_per_month</th>\n",
       "      <th>calculated_host_listings_count</th>\n",
       "      <th>availability_365</th>\n",
       "    </tr>\n",
       "  </thead>\n",
       "  <tbody>\n",
       "    <tr>\n",
       "      <th>0</th>\n",
       "      <td>2787</td>\n",
       "      <td>40.64749</td>\n",
       "      <td>-73.97237</td>\n",
       "      <td>1</td>\n",
       "      <td>9</td>\n",
       "      <td>0.21</td>\n",
       "      <td>6</td>\n",
       "      <td>365</td>\n",
       "    </tr>\n",
       "    <tr>\n",
       "      <th>1</th>\n",
       "      <td>2845</td>\n",
       "      <td>40.75362</td>\n",
       "      <td>-73.98377</td>\n",
       "      <td>1</td>\n",
       "      <td>45</td>\n",
       "      <td>0.38</td>\n",
       "      <td>2</td>\n",
       "      <td>355</td>\n",
       "    </tr>\n",
       "    <tr>\n",
       "      <th>4</th>\n",
       "      <td>7192</td>\n",
       "      <td>40.79851</td>\n",
       "      <td>-73.94399</td>\n",
       "      <td>10</td>\n",
       "      <td>9</td>\n",
       "      <td>0.10</td>\n",
       "      <td>1</td>\n",
       "      <td>0</td>\n",
       "    </tr>\n",
       "    <tr>\n",
       "      <th>5</th>\n",
       "      <td>7322</td>\n",
       "      <td>40.74767</td>\n",
       "      <td>-73.97500</td>\n",
       "      <td>3</td>\n",
       "      <td>74</td>\n",
       "      <td>0.59</td>\n",
       "      <td>1</td>\n",
       "      <td>129</td>\n",
       "    </tr>\n",
       "    <tr>\n",
       "      <th>6</th>\n",
       "      <td>7356</td>\n",
       "      <td>40.68688</td>\n",
       "      <td>-73.95596</td>\n",
       "      <td>45</td>\n",
       "      <td>49</td>\n",
       "      <td>0.40</td>\n",
       "      <td>1</td>\n",
       "      <td>0</td>\n",
       "    </tr>\n",
       "    <tr>\n",
       "      <th>...</th>\n",
       "      <td>...</td>\n",
       "      <td>...</td>\n",
       "      <td>...</td>\n",
       "      <td>...</td>\n",
       "      <td>...</td>\n",
       "      <td>...</td>\n",
       "      <td>...</td>\n",
       "      <td>...</td>\n",
       "    </tr>\n",
       "    <tr>\n",
       "      <th>9991</th>\n",
       "      <td>347642</td>\n",
       "      <td>40.68022</td>\n",
       "      <td>-73.92795</td>\n",
       "      <td>3</td>\n",
       "      <td>120</td>\n",
       "      <td>2.63</td>\n",
       "      <td>3</td>\n",
       "      <td>220</td>\n",
       "    </tr>\n",
       "    <tr>\n",
       "      <th>9995</th>\n",
       "      <td>12620454</td>\n",
       "      <td>40.70442</td>\n",
       "      <td>-73.92484</td>\n",
       "      <td>5</td>\n",
       "      <td>27</td>\n",
       "      <td>0.57</td>\n",
       "      <td>1</td>\n",
       "      <td>0</td>\n",
       "    </tr>\n",
       "    <tr>\n",
       "      <th>9996</th>\n",
       "      <td>2060383</td>\n",
       "      <td>40.68732</td>\n",
       "      <td>-73.99245</td>\n",
       "      <td>3</td>\n",
       "      <td>23</td>\n",
       "      <td>0.51</td>\n",
       "      <td>1</td>\n",
       "      <td>2</td>\n",
       "    </tr>\n",
       "    <tr>\n",
       "      <th>9997</th>\n",
       "      <td>39956905</td>\n",
       "      <td>40.72811</td>\n",
       "      <td>-73.98453</td>\n",
       "      <td>2</td>\n",
       "      <td>1</td>\n",
       "      <td>0.02</td>\n",
       "      <td>2</td>\n",
       "      <td>0</td>\n",
       "    </tr>\n",
       "    <tr>\n",
       "      <th>9998</th>\n",
       "      <td>33064750</td>\n",
       "      <td>40.68282</td>\n",
       "      <td>-73.99774</td>\n",
       "      <td>5</td>\n",
       "      <td>2</td>\n",
       "      <td>0.06</td>\n",
       "      <td>1</td>\n",
       "      <td>0</td>\n",
       "    </tr>\n",
       "  </tbody>\n",
       "</table>\n",
       "<p>7549 rows × 8 columns</p>\n",
       "</div>"
      ],
      "text/plain": [
       "       host_id  latitude  longitude  minimum_nights  number_of_reviews  \\\n",
       "0         2787  40.64749  -73.97237               1                  9   \n",
       "1         2845  40.75362  -73.98377               1                 45   \n",
       "4         7192  40.79851  -73.94399              10                  9   \n",
       "5         7322  40.74767  -73.97500               3                 74   \n",
       "6         7356  40.68688  -73.95596              45                 49   \n",
       "...        ...       ...        ...             ...                ...   \n",
       "9991    347642  40.68022  -73.92795               3                120   \n",
       "9995  12620454  40.70442  -73.92484               5                 27   \n",
       "9996   2060383  40.68732  -73.99245               3                 23   \n",
       "9997  39956905  40.72811  -73.98453               2                  1   \n",
       "9998  33064750  40.68282  -73.99774               5                  2   \n",
       "\n",
       "      reviews_per_month  calculated_host_listings_count  availability_365  \n",
       "0                  0.21                               6               365  \n",
       "1                  0.38                               2               355  \n",
       "4                  0.10                               1                 0  \n",
       "5                  0.59                               1               129  \n",
       "6                  0.40                               1                 0  \n",
       "...                 ...                             ...               ...  \n",
       "9991               2.63                               3               220  \n",
       "9995               0.57                               1                 0  \n",
       "9996               0.51                               1                 2  \n",
       "9997               0.02                               2                 0  \n",
       "9998               0.06                               1                 0  \n",
       "\n",
       "[7549 rows x 8 columns]"
      ]
     },
     "execution_count": 21,
     "metadata": {},
     "output_type": "execute_result"
    }
   ],
   "source": [
    "X"
   ]
  },
  {
   "cell_type": "code",
   "execution_count": 22,
   "metadata": {},
   "outputs": [],
   "source": [
    "X=X.to_numpy()"
   ]
  },
  {
   "cell_type": "code",
   "execution_count": 23,
   "metadata": {},
   "outputs": [
    {
     "data": {
      "text/plain": [
       "array([[ 2.7870000e+03,  4.0647490e+01, -7.3972370e+01, ...,\n",
       "         2.1000000e-01,  6.0000000e+00,  3.6500000e+02],\n",
       "       [ 2.8450000e+03,  4.0753620e+01, -7.3983770e+01, ...,\n",
       "         3.8000000e-01,  2.0000000e+00,  3.5500000e+02],\n",
       "       [ 7.1920000e+03,  4.0798510e+01, -7.3943990e+01, ...,\n",
       "         1.0000000e-01,  1.0000000e+00,  0.0000000e+00],\n",
       "       ...,\n",
       "       [ 2.0603830e+06,  4.0687320e+01, -7.3992450e+01, ...,\n",
       "         5.1000000e-01,  1.0000000e+00,  2.0000000e+00],\n",
       "       [ 3.9956905e+07,  4.0728110e+01, -7.3984530e+01, ...,\n",
       "         2.0000000e-02,  2.0000000e+00,  0.0000000e+00],\n",
       "       [ 3.3064750e+07,  4.0682820e+01, -7.3997740e+01, ...,\n",
       "         6.0000000e-02,  1.0000000e+00,  0.0000000e+00]])"
      ]
     },
     "execution_count": 23,
     "metadata": {},
     "output_type": "execute_result"
    }
   ],
   "source": [
    "X"
   ]
  },
  {
   "cell_type": "code",
   "execution_count": 24,
   "metadata": {},
   "outputs": [
    {
     "data": {
      "text/plain": [
       "(7549, 8)"
      ]
     },
     "execution_count": 24,
     "metadata": {},
     "output_type": "execute_result"
    }
   ],
   "source": [
    "X.shape #calc"
   ]
  },
  {
   "cell_type": "code",
   "execution_count": 25,
   "metadata": {},
   "outputs": [],
   "source": [
    "Y=nums_new.price.to_numpy()"
   ]
  },
  {
   "cell_type": "code",
   "execution_count": 26,
   "metadata": {},
   "outputs": [
    {
     "data": {
      "text/plain": [
       "(7549,)"
      ]
     },
     "execution_count": 26,
     "metadata": {},
     "output_type": "execute_result"
    }
   ],
   "source": [
    "Y.shape\n"
   ]
  },
  {
   "cell_type": "markdown",
   "metadata": {},
   "source": [
    "Using normal function to calculuate theta values for linear regression "
   ]
  },
  {
   "cell_type": "code",
   "execution_count": 27,
   "metadata": {},
   "outputs": [],
   "source": [
    "def normal_equation(x, y, w=None):\n",
    "    if w is None:\n",
    "        return np.linalg.inv(x.T.dot(x)).dot(x.T).dot(y)\n",
    "    else:\n",
    "        return np.linalg.inv(x.T.dot(w).dot(x)).dot(x.T).dot(w).dot(y)"
   ]
  },
  {
   "cell_type": "code",
   "execution_count": 28,
   "metadata": {},
   "outputs": [],
   "source": [
    "theta = normal_equation(X,Y)"
   ]
  },
  {
   "cell_type": "markdown",
   "metadata": {},
   "source": [
    "These are the theta values we need for linear regression"
   ]
  },
  {
   "cell_type": "code",
   "execution_count": 29,
   "metadata": {},
   "outputs": [
    {
     "data": {
      "text/plain": [
       "array([-4.66838419e-07, -1.16004403e+02, -6.60571862e+01, -3.36763994e-01,\n",
       "        5.84491461e-03, -9.21327687e+00, -8.05572542e+00,  7.44675642e-02])"
      ]
     },
     "execution_count": 29,
     "metadata": {},
     "output_type": "execute_result"
    }
   ],
   "source": [
    "theta"
   ]
  },
  {
   "cell_type": "code",
   "execution_count": 30,
   "metadata": {},
   "outputs": [
    {
     "data": {
      "image/png": "[encoded data removed]",
      "text/plain": [
       "<Figure size 720x504 with 1 Axes>"
      ]
     },
     "metadata": {
      "needs_background": "light"
     },
     "output_type": "display_data"
    }
   ],
   "source": [
    "fig,ax = plt.subplots()\n",
    "Y_pred=X.dot(theta)\n",
    "ax.plot(X[:,1],Y,'x',color='Blue')\n",
    "plt.plot(X[:,1], Y_pred, color='red')\n",
    "fig.set_size_inches(10, 7) \n",
    "plt.show()"
   ]
  },
  {
   "cell_type": "markdown",
   "metadata": {},
   "source": [
    "Y= theta_0+theta_1*x_1+theta_2*x_2+theta_3*x_3+...."
   ]
  },
  {
   "cell_type": "markdown",
   "metadata": {},
   "source": [
    "This is our linear regression plot , which doesn't look that great and that makes sense since we tried plotting how 9 features are influencing price , so plot is not telling us much , therefore for this purpose we have calculates theta values to make our predictions "
   ]
  },
  {
   "cell_type": "code",
   "execution_count": 31,
   "metadata": {},
   "outputs": [
    {
     "data": {
      "text/plain": [
       "array([ -1.25512715, -58.69126371,  59.42967919, ...,   6.38149993,\n",
       "        31.95297599, -17.02029915])"
      ]
     },
     "execution_count": 31,
     "metadata": {},
     "output_type": "execute_result"
    }
   ],
   "source": [
    "Y_pred-Y"
   ]
  },
  {
   "cell_type": "code",
   "execution_count": 32,
   "metadata": {},
   "outputs": [
    {
     "data": {
      "text/plain": [
       "0.010833700833039028"
      ]
     },
     "execution_count": 32,
     "metadata": {},
     "output_type": "execute_result"
    }
   ],
   "source": [
    "(Y_pred-Y).mean()"
   ]
  },
  {
   "cell_type": "code",
   "execution_count": 33,
   "metadata": {},
   "outputs": [
    {
     "data": {
      "text/plain": [
       "-815.5068648892347"
      ]
     },
     "execution_count": 33,
     "metadata": {},
     "output_type": "execute_result"
    }
   ],
   "source": [
    "(Y_pred-Y).min()"
   ]
  },
  {
   "cell_type": "code",
   "execution_count": 34,
   "metadata": {},
   "outputs": [
    {
     "data": {
      "text/plain": [
       "165.80202494713103"
      ]
     },
     "execution_count": 34,
     "metadata": {},
     "output_type": "execute_result"
    }
   ],
   "source": [
    "(Y_pred-Y).max()"
   ]
  },
  {
   "cell_type": "markdown",
   "metadata": {},
   "source": [
    "Calculating the RSS function for theta"
   ]
  },
  {
   "cell_type": "code",
   "execution_count": 35,
   "metadata": {},
   "outputs": [],
   "source": [
    "RSS_cost=((Y_pred-Y).transpose()).dot(Y_pred-Y)"
   ]
  },
  {
   "cell_type": "code",
   "execution_count": 36,
   "metadata": {},
   "outputs": [
    {
     "data": {
      "text/plain": [
       "75828691.62620279"
      ]
     },
     "execution_count": 36,
     "metadata": {},
     "output_type": "execute_result"
    }
   ],
   "source": [
    "RSS_cost"
   ]
  },
  {
   "cell_type": "markdown",
   "metadata": {},
   "source": [
    "Calcualting square root of RSS divided by n to get better results"
   ]
  },
  {
   "cell_type": "code",
   "execution_count": 37,
   "metadata": {},
   "outputs": [
    {
     "data": {
      "text/plain": [
       "10044.865760524943"
      ]
     },
     "execution_count": 37,
     "metadata": {},
     "output_type": "execute_result"
    }
   ],
   "source": [
    "RSS_cost/7549 #7549 is n "
   ]
  },
  {
   "cell_type": "code",
   "execution_count": 38,
   "metadata": {},
   "outputs": [
    {
     "data": {
      "text/plain": [
       "100.22407774843799"
      ]
     },
     "execution_count": 38,
     "metadata": {},
     "output_type": "execute_result"
    }
   ],
   "source": [
    "from math import sqrt\n",
    "sqrt(10044.865760524943)"
   ]
  },
  {
   "cell_type": "code",
   "execution_count": null,
   "metadata": {},
   "outputs": [],
   "source": []
  },
  {
   "cell_type": "code",
   "execution_count": null,
   "metadata": {},
   "outputs": [],
   "source": []
  }
 ],
 "metadata": {
  "kernelspec": {
   "display_name": "Python 3",
   "language": "python",
   "name": "python3"
  },
  "language_info": {
   "codemirror_mode": {
    "name": "ipython",
    "version": 3
   },
   "file_extension": ".py",
   "mimetype": "text/x-python",
   "name": "python",
   "nbconvert_exporter": "python",
   "pygments_lexer": "ipython3",
   "version": "3.8.5"
  }
 },
 "nbformat": 4,
 "nbformat_minor": 2
}
